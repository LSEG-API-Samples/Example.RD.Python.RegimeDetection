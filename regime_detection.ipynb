{
 "cells": [
  {
   "cell_type": "code",
   "execution_count": 7,
   "id": "912bf373-287c-4e47-943c-e247aaaa8287",
   "metadata": {},
   "outputs": [],
   "source": [
    "import refinitiv.data as rd\n",
    "import numpy as np\n",
    "from sklearn.cluster import KMeans\n",
    "from sklearn.metrics import pairwise_distances\n",
    "import pandas as pd\n",
    "from hmmlearn.hmm import GaussianHMM,GMMHMM, CategoricalHMM\n",
    "import plotly.graph_objects as go\n",
    "from plotly.graph_objs.scatter.marker import Line\n",
    "from plotly.subplots import make_subplots\n",
    "from sklearn.cluster import AgglomerativeClustering\n",
    "from sklearn.mixture import GaussianMixture\n",
    "import warnings\n",
    "import math\n",
    "\n",
    "warnings.filterwarnings('ignore')"
   ]
  },
  {
   "cell_type": "code",
   "execution_count": 2,
   "id": "20f57700-dc00-41a6-84cc-9abf75884a59",
   "metadata": {},
   "outputs": [
    {
     "data": {
      "text/plain": [
       "<refinitiv.data.session.Definition object at 0x7fdfd0e275c0 {name='workspace'}>"
      ]
     },
     "execution_count": 2,
     "metadata": {},
     "output_type": "execute_result"
    }
   ],
   "source": [
    "rd.open_session()"
   ]
  },
  {
   "cell_type": "markdown",
   "id": "ff6e5e70-5e5a-41c1-9988-2b77ce086884",
   "metadata": {},
   "source": [
    "## Data Ingestion and Engineering"
   ]
  },
  {
   "cell_type": "code",
   "execution_count": 7,
   "id": "6c846b71-282b-45de-84d7-7578af2eeca3",
   "metadata": {},
   "outputs": [],
   "source": [
    "class DataEngineering:\n",
    "    \n",
    "    def __init__(self, prices, split_date):\n",
    "        self.prices = prices\n",
    "        self.split_date = split_date\n",
    "        self.instrument = prices.columns.name\n",
    "    \n",
    "    def prepare_data(self):\n",
    "        prices_change = self.calculate_change_of_ma(self.prices)\n",
    "        data = self.prepare_data_for_model_input(prices_change)\n",
    "        split_index = self.get_split_index(prices_change, self.split_date)\n",
    "        \n",
    "        return prices_change.set_index('Date'), data, split_index\n",
    "    \n",
    "    def calculate_change_of_ma(self, prices): #need to observe \n",
    "\n",
    "        prices_ma = prices.rolling(7).mean()\n",
    "        \n",
    "        prices_change = prices_ma.pct_change()\n",
    "        prices_change[f'{self.instrument}_close'] = prices[self.instrument]\n",
    "        prices_change.dropna(inplace=True)\n",
    "        return prices_change\n",
    "\n",
    "    def prepare_data_for_model_input(self, prices_change):\n",
    "        data_dict = {}\n",
    "        for column in prices_change.columns:\n",
    "            if column != f'{self.instrument}_close':\n",
    "                data_dict[column] = np.array([[q] for q in prices_change[column].values])\n",
    "        data = np.column_stack(data_dict.values())\n",
    "        return data\n",
    "    \n",
    "    def split_for_train_test(self, data, split_index):\n",
    "\n",
    "        rets_train = data[:split_index]\n",
    "        rets_test = data[split_index:]\n",
    "        \n",
    "        return rets_train, rets_test\n",
    "    \n",
    "    def get_split_index(self, prices_change, split_date):\n",
    "        prices_change.reset_index(inplace = True)\n",
    "        split_index = prices_change.loc[prices_change['Date'] > split_date].iloc[0].name\n",
    "        \n",
    "        return split_index"
   ]
  },
  {
   "cell_type": "markdown",
   "id": "ad4970bd-ef5e-4e80-bdbc-492571937795",
   "metadata": {},
   "source": [
    "## Modeling and Evaluation"
   ]
  },
  {
   "cell_type": "code",
   "execution_count": 10,
   "id": "c1724a77-cbac-425b-82f6-6260b32e7574",
   "metadata": {},
   "outputs": [],
   "source": [
    "class RegimeDetection:\n",
    "    \n",
    "    def get_regimes_hmm(self, input_data):\n",
    "        hmm_model = GaussianHMM(\n",
    "        n_components=2,  n_iter=10000, covariance_type=\"full\", random_state = 1000)\n",
    "        return hmm_model.fit(input_data)\n",
    "    \n",
    "    def get_regimes_clustering(self, model):\n",
    "        if model == 'AgglomerativeClustering':\n",
    "            clustering = AgglomerativeClustering(n_clusters = 2, linkage = 'complete',  affinity = 'manhattan')\n",
    "        elif model == 'kmeans':\n",
    "            clustering = KMeans(n_clusters=2)\n",
    "        \n",
    "        return clustering\n",
    "    \n",
    "    def get_regimes_gmm(self, input_data):\n",
    "        gmm = GaussianMixture(n_components=2, covariance_type = 'full', max_iter = 100000, n_init =30,\n",
    "                    init_params = 'kmeans').fit(input_data)\n",
    "        return gmm"
   ]
  },
  {
   "cell_type": "code",
   "execution_count": 6,
   "id": "c49209aa-767d-40f7-8c3b-96caf8acdc6e",
   "metadata": {},
   "outputs": [],
   "source": [
    "def plot_hidden_states(hidden_states, df, n_components):\n",
    "\n",
    "    colors = ['blue', 'green', 'yellow', 'black', 'grey']\n",
    "    for i in range(n_components):\n",
    "        mask = hidden_states == i\n",
    "        print('Number of observations for State ', i,\":\", len(df.index[mask]))\n",
    "        \n",
    "        fig = go.Figure()\n",
    "        fig.add_trace(go.Line(x=df.index, y=df[f\"{prices_change.columns.name}_close\"],\n",
    "                    name = f'Price {prices_change.columns.name}',\n",
    "                    line_color = 'red'))\n",
    "        \n",
    "        fig.add_trace(go.Scatter(x=df.index[mask], y=df[f\"{prices_change.columns.name}_close\"][mask],\n",
    "                    mode='markers',\n",
    "                    name='Hidden State ' + str(i)))\n",
    "        \n",
    "        fig.update_traces(marker=dict(size=4,color=colors[i]),\n",
    "                  selector=dict(mode='markers'))\n",
    "        \n",
    "        fig.update_layout(height=300, width=600, legend=dict(\n",
    "            yanchor=\"top\", y=0.99,\n",
    "            xanchor=\"left\",x=0.01), \n",
    "            margin=dict(l=20, r=20, t=20, b=20))\n",
    "        \n",
    "        fig.show()"
   ]
  },
  {
   "cell_type": "code",
   "execution_count": 5,
   "id": "d1fcca64-dc50-4ef4-9750-24db1b0b1e8f",
   "metadata": {},
   "outputs": [],
   "source": [
    "def plot_hidden_states_cf(hidden_states, df, n_components):\n",
    "\n",
    "    colors = ['blue', 'green', 'yellow', 'black', 'grey']\n",
    "    for i in range(n_components):\n",
    "        mask = hidden_states == i\n",
    "        print('Number of observations for State ', i,\":\", len(df.index[mask]))\n",
    "        \n",
    "        fig = go.Figure()\n",
    "        fig.add_trace(go.Line(x=df.index, y=df[f\"close\"],\n",
    "                    name = f'Price',\n",
    "                    line_color = 'red'))\n",
    "        \n",
    "        fig.add_trace(go.Scatter(x=df.index[mask], y=df[f\"close\"][mask],\n",
    "                    mode='markers',\n",
    "                    name='Hidden State ' + str(i)))\n",
    "        \n",
    "        fig.update_traces(marker=dict(size=4,color=colors[i]),\n",
    "                  selector=dict(mode='markers'))\n",
    "        \n",
    "        fig.update_layout(height=300, width=600, legend=dict(\n",
    "            yanchor=\"top\", y=0.99,\n",
    "            xanchor=\"left\",x=0.01), \n",
    "            margin=dict(l=20, r=20, t=20, b=20))\n",
    "        \n",
    "        fig.show()"
   ]
  },
  {
   "cell_type": "code",
   "execution_count": null,
   "id": "768107b1-8277-43f3-bd84-5db77b679f7d",
   "metadata": {},
   "outputs": [],
   "source": [
    "def feed_forward_training(model, prices, split_index, train_chunk_size):\n",
    "    \n",
    "    models = {'hmm': regime_detection.get_regimes_hmm, \n",
    "              'gmm': regime_detection.get_regimes_gmm}\n",
    "    \n",
    "    init_train_data = prices[:split_index]\n",
    "    test_data = prices[split_index:]\n",
    "    \n",
    "    states_pred = []\n",
    "    rd_model = models[model](init_train_data)\n",
    "    print('hmm score initial training', rd_model.score(init_train_data))\n",
    "    \n",
    "    for i in range(math.ceil(len(test_data))):\n",
    "        split_index += 1\n",
    "        preds = rd_model.predict(prices[:split_index]).tolist()\n",
    "        states_pred.append(preds[-1])\n",
    "        \n",
    "        if i % train_chunk_size == 0:\n",
    "            rd_model = models[model](prices[:split_index])\n",
    "            print(i, 'hmm retrain', rd_model.score(prices[:split_index]))\n",
    "                \n",
    "    return states_pred"
   ]
  }
 ],
 "metadata": {
  "kernelspec": {
   "display_name": "Python 3 (ipykernel)",
   "language": "python",
   "name": "python3"
  },
  "language_info": {
   "codemirror_mode": {
    "name": "ipython",
    "version": 3
   },
   "file_extension": ".py",
   "mimetype": "text/x-python",
   "name": "python",
   "nbconvert_exporter": "python",
   "pygments_lexer": "ipython3",
   "version": "3.9.13"
  }
 },
 "nbformat": 4,
 "nbformat_minor": 5
}
